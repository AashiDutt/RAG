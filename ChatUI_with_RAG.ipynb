{
  "nbformat": 4,
  "nbformat_minor": 0,
  "metadata": {
    "colab": {
      "provenance": [],
      "authorship_tag": "ABX9TyN4uwZcV7mR+lDyh8yfRle8",
      "include_colab_link": true
    },
    "kernelspec": {
      "name": "python3",
      "display_name": "Python 3"
    },
    "language_info": {
      "name": "python"
    }
  },
  "cells": [
    {
      "cell_type": "markdown",
      "metadata": {
        "id": "view-in-github",
        "colab_type": "text"
      },
      "source": [
        "<a href=\"https://colab.research.google.com/github/AashiDutt/RAG/blob/main/ChatUI_with_RAG.ipynb\" target=\"_parent\"><img src=\"https://colab.research.google.com/assets/colab-badge.svg\" alt=\"Open In Colab\"/></a>"
      ]
    },
    {
      "cell_type": "code",
      "execution_count": null,
      "metadata": {
        "id": "jpgxo__3nPPC"
      },
      "outputs": [],
      "source": [
        "from helper import load_mistral_api_key\n",
        "api_key, dlai_endpoint = load_mistral_api_key(ret_key=True)"
      ]
    },
    {
      "cell_type": "code",
      "source": [
        "import os\n",
        "from mistralai.models.chat_completion import ChatMessage\n",
        "from mistralai.client import MistralClient"
      ],
      "metadata": {
        "id": "W8CJSOvSnVFJ"
      },
      "execution_count": null,
      "outputs": []
    },
    {
      "cell_type": "markdown",
      "source": [
        "Panel\n",
        "Panel is an open source python library that you can use to create dashboards and apps."
      ],
      "metadata": {
        "id": "oralsaaunYK8"
      }
    },
    {
      "cell_type": "code",
      "source": [
        "import panel as pn\n",
        "pn.extension()"
      ],
      "metadata": {
        "id": "LrRr3eCmnXmq"
      },
      "execution_count": null,
      "outputs": []
    },
    {
      "cell_type": "markdown",
      "source": [
        "# Basic chat UI"
      ],
      "metadata": {
        "id": "4o8EeJSVndbu"
      }
    },
    {
      "cell_type": "code",
      "source": [
        "def run_mistral(contents, user, chat_interface):\n",
        "    client = MistralClient(api_key=api_key, endpoint=dlai_endpoint)\n",
        "    messages = [ChatMessage(role=\"user\", content=contents)]\n",
        "    chat_response = client.chat(\n",
        "        model=\"mistral-large-latest\",\n",
        "        messages=messages)\n",
        "    return chat_response.choices[0].message.content"
      ],
      "metadata": {
        "id": "uv-ig28ZnXkT"
      },
      "execution_count": null,
      "outputs": []
    },
    {
      "cell_type": "code",
      "source": [
        "\n",
        "chat_interface = pn.chat.ChatInterface(\n",
        "    callback=run_mistral,\n",
        "    callback_user=\"Mistral\"\n",
        ")\n",
        "\n",
        "chat_interface"
      ],
      "metadata": {
        "id": "BXgR0Lr-nXhc"
      },
      "execution_count": null,
      "outputs": []
    },
    {
      "cell_type": "markdown",
      "source": [
        "# RAG UI"
      ],
      "metadata": {
        "id": "Dg5SGPIEnkIC"
      }
    },
    {
      "cell_type": "code",
      "source": [
        "import requests\n",
        "from bs4 import BeautifulSoup\n",
        "import re\n",
        "\n",
        "response = requests.get(\n",
        "    \"https://www.deeplearning.ai/the-batch/a-roadmap-explores-how-ai-can-detect-and-mitigate-greenhouse-gases/\"\n",
        ")\n",
        "html_doc = response.text\n",
        "soup = BeautifulSoup(html_doc, \"html.parser\")\n",
        "tag = soup.find(\"div\", re.compile(\"^prose--styled\"))\n",
        "text = tag.text\n",
        "print(text)\n",
        "\n",
        "# Optionally save this text into a file.\n",
        "file_name = \"AI_greenhouse_gas.txt\"\n",
        "with open(file_name, 'w') as file:\n",
        "    file.write(text)"
      ],
      "metadata": {
        "id": "89aK8pbWnXe1"
      },
      "execution_count": null,
      "outputs": []
    },
    {
      "cell_type": "code",
      "source": [
        "import numpy as np\n",
        "import faiss\n",
        "\n",
        "client = MistralClient(\n",
        "    api_key=os.getenv(\"MISTRAL_API_KEY\"),\n",
        "    endpoint=os.getenv(\"DLAI_MISTRAL_API_ENDPOINT\")\n",
        ")\n",
        "\n",
        "prompt = \"\"\"\n",
        "Context information is below.\n",
        "---------------------\n",
        "{retrieved_chunk}\n",
        "---------------------\n",
        "Given the context information and not prior knowledge, answer the query.\n",
        "Query: {question}\n",
        "Answer:\n",
        "\"\"\"\n",
        "\n",
        "def get_text_embedding(input):\n",
        "    embeddings_batch_response = client.embeddings(model=\"mistral-embed\", input=input)\n",
        "    return embeddings_batch_response.data[0].embedding\n",
        "\n",
        "def run_mistral(user_message, model=\"mistral-large-latest\"):\n",
        "    messages = [ChatMessage(role=\"user\", content=user_message)]\n",
        "    chat_response = client.chat(model=model, messages=messages)\n",
        "    return chat_response.choices[0].message.content\n",
        "\n",
        "def answer_question(question, user, instance):\n",
        "    text = file_input.value.decode(\"utf-8\")\n",
        "\n",
        "    # split document into chunks\n",
        "    chunk_size = 2048\n",
        "    chunks = [text[i : i + chunk_size] for i in range(0, len(text), chunk_size)]\n",
        "    # load into a vector database\n",
        "    text_embeddings = np.array([get_text_embedding(chunk) for chunk in chunks])\n",
        "    d = text_embeddings.shape[1]\n",
        "    index = faiss.IndexFlatL2(d)\n",
        "    index.add(text_embeddings)\n",
        "    # create embeddings for a question\n",
        "    question_embeddings = np.array([get_text_embedding(question)])\n",
        "    # retrieve similar chunks from the vector database\n",
        "    D, I = index.search(question_embeddings, k=2)\n",
        "    retrieved_chunk = [chunks[i] for i in I.tolist()[0]]\n",
        "    # generate response based on the retrieved relevant text chunks\n",
        "    response = run_mistral(\n",
        "        prompt.format(retrieved_chunk=retrieved_chunk, question=question)\n",
        "    )\n",
        "    return response"
      ],
      "metadata": {
        "id": "fD6egYzNnXch"
      },
      "execution_count": null,
      "outputs": []
    },
    {
      "cell_type": "markdown",
      "source": [
        "### Connect the Chat interface with your user-defined function\n",
        "​\n",
        "- Note, you can find some sample text files to upload to this RAG UI by clicking on the 'Jupyter' logo and to view the file directory of the lesson.\n",
        "- Or you can create any text file and copy-paste some text from a web article."
      ],
      "metadata": {
        "id": "IXQ_wqu5ntNN"
      }
    },
    {
      "cell_type": "code",
      "source": [
        "file_input = pn.widgets.FileInput(accept=\".txt\", value=\"\", height=50)\n",
        "\n",
        "chat_interface = pn.chat.ChatInterface(\n",
        "    callback=answer_question,\n",
        "    callback_user=\"Mistral\",\n",
        "    header=pn.Row(file_input, \"### Upload a text file to chat with it!\"),\n",
        ")\n",
        "chat_interface.send(\n",
        "    \"Send a message to get a reply from Mistral!\",\n",
        "    user=\"System\",\n",
        "    respond=False\n",
        ")\n",
        "chat_interface"
      ],
      "metadata": {
        "id": "m_TR28k-nXZX"
      },
      "execution_count": null,
      "outputs": []
    },
    {
      "cell_type": "markdown",
      "source": [
        "Note about Panel\n",
        "If you are running this notebook on your local machine:\n",
        "\n",
        "After uploading a local text file, and when typing into the textbox for the RAG UI, you may notice that the screen \"jumps\" downward, and a new code cell is inserted above the chat UI.\n",
        "The letter \"a\" is a jupyter notebook shortcut that inserts a new code cell \"above\" the current one.\n",
        "If you see this, please use your mouse cursor to click back into the \"Send a message\" textbox and continue typing. After that, you will not see the screen jump even if you type a letter \"a\" or any other jupyter notebook shortcut key.\n",
        "For a more permanent fix, please upgrade to the latest version of juypter lab and panel."
      ],
      "metadata": {
        "id": "gfuwSbfvnvv9"
      }
    }
  ]
}