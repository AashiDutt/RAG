{
  "cells": [
    {
      "cell_type": "markdown",
      "metadata": {
        "id": "_ASEbhrbSdai"
      },
      "source": [
        "Code referenced from - https://towardsdatascience.com/a-beginners-guide-to-building-a-retrieval-augmented-generation-rag-application-from-scratch-e52921953a5d"
      ]
    },
    {
      "cell_type": "markdown",
      "metadata": {
        "id": "DtUmnb-QS8dY"
      },
      "source": [
        "To Do: perform Similarity measure\n",
        "\n",
        "\n",
        "\n",
        "1.   Collect documents\n",
        "2.   Define similarity measuring criteria - in this we use Jaccard similarity (intersection divided by union of the sets of words)\n",
        "3.   find similarity and return a response\n",
        "4.   To avoid bad similarity for negative examples use LLM (we use ollama locally)\n",
        "\n"
      ]
    },
    {
      "cell_type": "markdown",
      "metadata": {
        "id": "VmrNByk3SoOY"
      },
      "source": [
        "# Step 1 - Collection of documents"
      ]
    },
    {
      "cell_type": "code",
      "execution_count": 1,
      "metadata": {
        "id": "truEoSi5SZW5"
      },
      "outputs": [],
      "source": [
        "corpus_of_documents = [\n",
        "    \"Take a leisurely walk in the park and enjoy the fresh air.\",\n",
        "    \"Visit a local museum and discover something new.\",\n",
        "    \"Attend a live music concert and feel the rhythm.\",\n",
        "    \"Go for a hike and admire the natural scenery.\",\n",
        "    \"Have a picnic with friends and share some laughs.\",\n",
        "    \"Explore a new cuisine by dining at an ethnic restaurant.\",\n",
        "    \"Take a yoga class and stretch your body and mind.\",\n",
        "    \"Join a local sports league and enjoy some friendly competition.\",\n",
        "    \"Attend a workshop or lecture on a topic you're interested in.\",\n",
        "    \"Visit an amusement park and ride the roller coasters.\"\n",
        "]"
      ]
    },
    {
      "cell_type": "markdown",
      "metadata": {
        "id": "X1gJohaXTvx_"
      },
      "source": [
        "# Step 2 - Define similarity measuring criteria\n"
      ]
    },
    {
      "cell_type": "code",
      "execution_count": 2,
      "metadata": {
        "id": "wpCKt3J_S6Ga"
      },
      "outputs": [],
      "source": [
        "def jaccard_similarity(query, document):\n",
        "  query = query.lower().split(\" \")\n",
        "  document = document.lower().split(\" \")\n",
        "  intersection = set(query).intersection(set(document))\n",
        "  union = set(query).union(set(document))\n",
        "  return (len(intersection)/ len(union))\n"
      ]
    },
    {
      "cell_type": "code",
      "execution_count": 3,
      "metadata": {
        "id": "At2_FJaxUSWr"
      },
      "outputs": [],
      "source": [
        "def return_response(query, corpus):\n",
        "  similarities = []\n",
        "  for doc in corpus:\n",
        "    similarity = jaccard_similarity(query, doc)\n",
        "    similarities.append(similarity)\n",
        "\n",
        "  return corpus_of_documents[similarities.index(max(similarities))]"
      ]
    },
    {
      "cell_type": "code",
      "execution_count": 4,
      "metadata": {
        "id": "MOw7MMMdUxTY"
      },
      "outputs": [],
      "source": [
        "user_prompt = \"What is leisure activity that you like?\""
      ]
    },
    {
      "cell_type": "code",
      "execution_count": 5,
      "metadata": {
        "id": "phKhtegfVHj2"
      },
      "outputs": [],
      "source": [
        "user_input = \"I like to hike\""
      ]
    },
    {
      "cell_type": "code",
      "execution_count": 6,
      "metadata": {
        "colab": {
          "base_uri": "https://localhost:8080/",
          "height": 35
        },
        "id": "AIat4pf9U5RO",
        "outputId": "5761dbe5-c51c-41fa-c03e-3b7eb3ab68eb"
      },
      "outputs": [
        {
          "data": {
            "text/plain": [
              "'Go for a hike and admire the natural scenery.'"
            ]
          },
          "execution_count": 6,
          "metadata": {},
          "output_type": "execute_result"
        }
      ],
      "source": [
        "return_response(user_input, corpus_of_documents)"
      ]
    },
    {
      "cell_type": "markdown",
      "metadata": {
        "id": "NOON70f8VTFU"
      },
      "source": [
        "# 🙋‍♀️ Problem with this apporach --> it does not respond well to negative prompts\n",
        "\n",
        "Why ? - because it has no semantics; it is just finding words which are available in both documents.\n",
        "\n",
        "Thus for a negative prompt we get same result because that is the closest documnet."
      ]
    },
    {
      "cell_type": "code",
      "execution_count": 7,
      "metadata": {
        "id": "5bSK2hmyVJ-5"
      },
      "outputs": [],
      "source": [
        "user_input = \"I do not like to hike\""
      ]
    },
    {
      "cell_type": "code",
      "execution_count": 8,
      "metadata": {
        "colab": {
          "base_uri": "https://localhost:8080/",
          "height": 35
        },
        "id": "wjPEouWnVR98",
        "outputId": "bc038c8a-50fe-4bb1-ea85-341006192f56"
      },
      "outputs": [
        {
          "data": {
            "text/plain": [
              "'Go for a hike and admire the natural scenery.'"
            ]
          },
          "execution_count": 8,
          "metadata": {},
          "output_type": "execute_result"
        }
      ],
      "source": [
        "return_response(user_input, corpus_of_documents)"
      ]
    },
    {
      "cell_type": "markdown",
      "metadata": {
        "id": "5PVeRvO7VdTN"
      },
      "source": [
        "# ⭐️ Solution: Introduce LLM\n",
        "Running ollama locally\n",
        "\n",
        "To dos: \n",
        "1. Set up ollama (ollama.com)\n",
        "2. Get user input\n",
        "3. Fetch most similar doc using Jaccard similarity criteria\n",
        "4. pass prompt to language model (LLM)\n",
        "5. Return result"
      ]
    },
    {
      "cell_type": "code",
      "execution_count": 9,
      "metadata": {
        "id": "oJMHVzVoVSf9"
      },
      "outputs": [],
      "source": [
        "import json\n",
        "import requests"
      ]
    },
    {
      "cell_type": "markdown",
      "metadata": {},
      "source": [
        "# Step 2 and 3"
      ]
    },
    {
      "cell_type": "code",
      "execution_count": 10,
      "metadata": {},
      "outputs": [],
      "source": [
        "user_input = \"I like to hike\"\n",
        "relevant_document = return_response(user_input, corpus_of_documents) # response returned from similarity measure\n",
        "full_response = []"
      ]
    },
    {
      "cell_type": "markdown",
      "metadata": {},
      "source": [
        "# Step 4"
      ]
    },
    {
      "cell_type": "code",
      "execution_count": 11,
      "metadata": {},
      "outputs": [],
      "source": [
        "prompt = \"\"\"\n",
        "You are a bot that makes recommendations for leisure activities. You answer in very short sentences. This is the recommended activity: {relevant_document}\n",
        "The user input is: {user_input}\n",
        "Compile a reccomendation to the user based on the recomended activity and the user input.\n",
        "\"\"\""
      ]
    },
    {
      "cell_type": "markdown",
      "metadata": {},
      "source": [
        "### Make an API call to ollama (llama2). Make sure ollama is running on your device locally by running ollama serve."
      ]
    },
    {
      "cell_type": "code",
      "execution_count": 12,
      "metadata": {},
      "outputs": [],
      "source": [
        "url = \"http://localhost:11434/api/generate\"\n",
        "data = {\n",
        "    \"model\": \"llama2\",\n",
        "    \"prompt\": prompt.format(user_input = user_input, relevant_document = relevant_document)\n",
        "}"
      ]
    },
    {
      "cell_type": "code",
      "execution_count": 13,
      "metadata": {},
      "outputs": [
        {
          "name": "stdout",
          "output_type": "stream",
          "text": [
            " Great !  Based  on  your  interest  in  h ik ing ,  I  recommend  checking  out  the  nearby  state  par ks  or  nature  res erves  for  some  amaz ing  tra ils .  Don ' t  forget  to  bring  plenty  of  water  and  sn acks ,  and  enjoy  the  scen ery  along  the  way ! \n"
          ]
        }
      ],
      "source": [
        "# Posting response on url\n",
        "\n",
        "headers = {'Content-Type': 'application/json'}\n",
        "response = requests.post(url, headers=headers, data=json.dumps(data), stream = True)\n",
        "\n",
        "try:\n",
        "    count = 0\n",
        "    for line in response.iter_lines():\n",
        "        if line:\n",
        "            decoded_line = json.loads(line.decode('utf-8'))\n",
        "            full_response.append(decoded_line['response'])\n",
        "finally:\n",
        "    response.close()\n",
        "print(' '.join(full_response))"
      ]
    },
    {
      "cell_type": "markdown",
      "metadata": {},
      "source": [
        "### let's try negative prompt"
      ]
    },
    {
      "cell_type": "code",
      "execution_count": 14,
      "metadata": {},
      "outputs": [],
      "source": [
        "user_input = \"I do not like to hike\"\n",
        "relevant_document = return_response(user_input, corpus_of_documents) # response returned from similarity measure\n",
        "full_response = []"
      ]
    },
    {
      "cell_type": "code",
      "execution_count": 15,
      "metadata": {},
      "outputs": [],
      "source": [
        "prompt = \"\"\"\n",
        "You are a bot that makes recommendations for leisure activities. You answer in very short sentences. This is the recommended activity: {relevant_document}\n",
        "The user input is: {user_input}\n",
        "Compile a reccomendation to the user based on the recomended activity and the user input.\n",
        "\"\"\""
      ]
    },
    {
      "cell_type": "code",
      "execution_count": 16,
      "metadata": {},
      "outputs": [],
      "source": [
        "url = \"http://localhost:11434/api/generate\"\n",
        "data = {\n",
        "    \"model\": \"llama2\",\n",
        "    \"prompt\": prompt.format(user_input = user_input, relevant_document = relevant_document)\n",
        "}"
      ]
    },
    {
      "cell_type": "code",
      "execution_count": 17,
      "metadata": {},
      "outputs": [
        {
          "name": "stdout",
          "output_type": "stream",
          "text": [
            "S orry  to  hear  that  you  don ' t  enjoy  h ik ing !  Here ' s  an  alternative  recommendation  for  you : \n",
            " \n",
            " How  about  visit ing  a  local  museum  or  art  gallery ?  It ' s  a  great  way  to  appreciate  beautiful  art work  and  learn  something  new  in  a  relax ed  setting . \n"
          ]
        }
      ],
      "source": [
        "# Posting response on url\n",
        "\n",
        "headers = {'Content-Type': 'application/json'}\n",
        "response = requests.post(url, headers=headers, data=json.dumps(data), stream = True)\n",
        "\n",
        "try:\n",
        "    count = 0\n",
        "    for line in response.iter_lines():\n",
        "        if line:\n",
        "            decoded_line = json.loads(line.decode('utf-8'))\n",
        "            full_response.append(decoded_line['response'])\n",
        "finally:\n",
        "    response.close()\n",
        "print(' '.join(full_response))"
      ]
    }
  ],
  "metadata": {
    "colab": {
      "provenance": []
    },
    "kernelspec": {
      "display_name": "Python 3",
      "name": "python3"
    },
    "language_info": {
      "codemirror_mode": {
        "name": "ipython",
        "version": 3
      },
      "file_extension": ".py",
      "mimetype": "text/x-python",
      "name": "python",
      "nbconvert_exporter": "python",
      "pygments_lexer": "ipython3",
      "version": "3.10.5"
    }
  },
  "nbformat": 4,
  "nbformat_minor": 0
}
